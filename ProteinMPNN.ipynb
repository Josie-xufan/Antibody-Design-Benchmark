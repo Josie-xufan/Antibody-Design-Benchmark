{
 "cells": [
  {
   "cell_type": "markdown",
   "metadata": {},
   "source": [
    "# ProteinMPNN"
   ]
  },
  {
   "cell_type": "markdown",
   "metadata": {},
   "source": [
    "> 2022, Science, University of Washington, David Baker"
   ]
  },
  {
   "cell_type": "markdown",
   "metadata": {},
   "source": [
    "## Results"
   ]
  },
  {
   "cell_type": "markdown",
   "metadata": {},
   "source": [
    "1. **针对single-chain protein，给定其backbone structure，测试其sequence recovery，性能在50.8%**\n",
    "\n",
    "   **引入各种小策略，例如add distance feature，using random decoding，updating edges**\n",
    "\n",
    "2. **针对multi-chain protein**\n",
    "\n",
    "3. 实验证明了一些观点\n",
    "\n",
    "   - 测试了402单体backbone，并于Rosetta的结果进行了比较（52.4% sequence recovery in ProteinMPNN，32.9% in Rosetta\n",
    "   - 测试了690 monomers, 732 homomers (with fewer than 2000 residues), and 98 heteromers，\n",
    "   - 实验证明通过proteinMPNN redesign的sequence，送入到alphafold中，得到的预测结果优于单独使用单链让alphafold进行预测的结果\n",
    "   - 虽然说在模型中加入噪声，使得proteinMPNN的sequence recovery降低了，但是得到的redesign sequence送入到alphafold中进行sequence-2-structure测试的时候，性能反而有所提高\n",
    "\n",
    "4. 做了一些湿实验的验证\n"
   ]
  },
  {
   "cell_type": "markdown",
   "metadata": {},
   "source": [
    "## Model"
   ]
  },
  {
   "cell_type": "markdown",
   "metadata": {},
   "source": [
    "![](imgs/proteinMPNN_framework.jpg)"
   ]
  },
  {
   "cell_type": "markdown",
   "metadata": {},
   "source": [
    "## Discussion"
   ]
  },
  {
   "cell_type": "markdown",
   "metadata": {},
   "source": [
    "sequence recovery这个指标对于晶体分别率湿非常敏感的，因此这个metric其实并没有那么合适\n",
    "\n",
    "因此在sequence design这个问题上，需要引入湿实验来验证"
   ]
  },
  {
   "cell_type": "markdown",
   "metadata": {},
   "source": [
    "## Reproduction"
   ]
  },
  {
   "cell_type": "markdown",
   "metadata": {},
   "source": [
    "&#10004; `submit_example_1.sh` - simple monomer example\n",
    "\n",
    "&#10004;`submit_example_2.sh` - simple multi-chain example\n",
    "\n",
    "&#10004;`submit_example_4_non_fixed.sh` - specify which positions to design"
   ]
  }
 ],
 "metadata": {
  "language_info": {
   "name": "python"
  }
 },
 "nbformat": 4,
 "nbformat_minor": 2
}
